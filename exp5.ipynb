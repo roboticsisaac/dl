{
  "nbformat": 4,
  "nbformat_minor": 0,
  "metadata": {
    "colab": {
      "provenance": []
    },
    "kernelspec": {
      "name": "python3",
      "display_name": "Python 3"
    },
    "language_info": {
      "name": "python"
    }
  },
  "cells": [
    {
      "cell_type": "code",
      "execution_count": 7,
      "metadata": {
        "colab": {
          "base_uri": "https://localhost:8080/"
        },
        "id": "ukTmPlk8sZO7",
        "outputId": "d9458403-ec14-4a4c-f2cd-cf2a79e44de5"
      },
      "outputs": [
        {
          "output_type": "stream",
          "name": "stdout",
          "text": [
            "Downloading data from https://storage.googleapis.com/tensorflow/keras-applications/vgg16/vgg16_weights_tf_dim_ordering_tf_kernels.h5\n",
            "\u001b[1m553467096/553467096\u001b[0m \u001b[32m━━━━━━━━━━━━━━━━━━━━\u001b[0m\u001b[37m\u001b[0m \u001b[1m9s\u001b[0m 0us/step\n",
            "\u001b[1m1/1\u001b[0m \u001b[32m━━━━━━━━━━━━━━━━━━━━\u001b[0m\u001b[37m\u001b[0m \u001b[1m1s\u001b[0m 1s/step\n",
            "Downloading data from https://storage.googleapis.com/download.tensorflow.org/data/imagenet_class_index.json\n",
            "\u001b[1m35363/35363\u001b[0m \u001b[32m━━━━━━━━━━━━━━━━━━━━\u001b[0m\u001b[37m\u001b[0m \u001b[1m0s\u001b[0m 0us/step\n",
            "tabby (37.45%)\n"
          ]
        }
      ],
      "source": [
        "\n",
        "from tensorflow.keras.preprocessing.image import load_img\n",
        "from tensorflow.keras.preprocessing.image import img_to_array\n",
        "from keras.applications.vgg16 import preprocess_input\n",
        "from keras.applications.vgg16 import decode_predictions\n",
        "from keras.applications.vgg16 import VGG16\n",
        "\n",
        "image = load_img('cat.jpg', target_size=(224, 224))\n",
        "\n",
        "image = img_to_array(image)\n",
        "\n",
        "image = image.reshape((1, image.shape[0], image.shape[1], image.shape[2]))\n",
        "\n",
        "image = preprocess_input(image)\n",
        "\n",
        "model = VGG16()\n",
        "\n",
        "yhat = model.predict(image)\n",
        "\n",
        "label = decode_predictions(yhat)\n",
        "\n",
        "label = label[0][0]\n",
        "\n",
        "print('%s (%.2f%%)' % (label[1], label[2]*100))"
      ]
    },
    {
      "cell_type": "code",
      "source": [
        "\n",
        "image = load_img('horse.jpg', target_size=(224, 224))\n",
        "\n",
        "image = img_to_array(image)\n",
        "\n",
        "image = image.reshape((1, image.shape[0], image.shape[1], image.shape[2]))\n",
        "\n",
        "image = preprocess_input(image)\n",
        "\n",
        "model = VGG16()\n",
        "\n",
        "yhat = model.predict(image)\n",
        "\n",
        "label = decode_predictions(yhat)\n",
        "\n",
        "label = label[0][0]\n",
        "\n",
        "print('%s (%.2f%%)' % (label[1], label[2]*100))"
      ],
      "metadata": {
        "colab": {
          "base_uri": "https://localhost:8080/"
        },
        "id": "a2hEzesDse2r",
        "outputId": "6376ec77-fbf6-48d3-a5ac-f7f7fc08d04c"
      },
      "execution_count": 9,
      "outputs": [
        {
          "output_type": "stream",
          "name": "stdout",
          "text": [
            "\u001b[1m1/1\u001b[0m \u001b[32m━━━━━━━━━━━━━━━━━━━━\u001b[0m\u001b[37m\u001b[0m \u001b[1m1s\u001b[0m 835ms/step\n",
            "sorrel (92.50%)\n"
          ]
        }
      ]
    },
    {
      "cell_type": "code",
      "source": [],
      "metadata": {
        "id": "Z1Q4cAMNs3kS"
      },
      "execution_count": null,
      "outputs": []
    },
    {
      "cell_type": "code",
      "source": [
        "\n",
        "image = load_img('human.jpg', target_size=(224, 224))\n",
        "\n",
        "image = img_to_array(image)\n",
        "\n",
        "image = image.reshape((1, image.shape[0], image.shape[1], image.shape[2]))\n",
        "\n",
        "image = preprocess_input(image)\n",
        "\n",
        "model = VGG16()\n",
        "\n",
        "yhat = model.predict(image)\n",
        "\n",
        "label = decode_predictions(yhat)\n",
        "\n",
        "label = label[0][0]\n",
        "\n",
        "print('%s (%.2f%%)' % (label[1], label[2]*100))"
      ],
      "metadata": {
        "colab": {
          "base_uri": "https://localhost:8080/"
        },
        "id": "_nWK27_Us3ny",
        "outputId": "ce67934c-d745-4777-a303-6bcb9039ef27"
      },
      "execution_count": 10,
      "outputs": [
        {
          "output_type": "stream",
          "name": "stdout",
          "text": [
            "\u001b[1m1/1\u001b[0m \u001b[32m━━━━━━━━━━━━━━━━━━━━\u001b[0m\u001b[37m\u001b[0m \u001b[1m1s\u001b[0m 1s/step\n",
            "coho (4.05%)\n"
          ]
        }
      ]
    }
  ]
}